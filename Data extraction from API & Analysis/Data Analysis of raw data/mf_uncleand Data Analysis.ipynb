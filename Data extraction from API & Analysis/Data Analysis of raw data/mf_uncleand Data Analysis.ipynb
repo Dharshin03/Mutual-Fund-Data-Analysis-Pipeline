{
 "cells": [
  {
   "cell_type": "code",
   "execution_count": 5,
   "id": "f48eca7a-74c3-4734-a456-99e8a4462f2c",
   "metadata": {},
   "outputs": [
    {
     "data": {
      "text/html": [
       "<div>\n",
       "<style scoped>\n",
       "    .dataframe tbody tr th:only-of-type {\n",
       "        vertical-align: middle;\n",
       "    }\n",
       "\n",
       "    .dataframe tbody tr th {\n",
       "        vertical-align: top;\n",
       "    }\n",
       "\n",
       "    .dataframe thead th {\n",
       "        text-align: right;\n",
       "    }\n",
       "</style>\n",
       "<table border=\"1\" class=\"dataframe\">\n",
       "  <thead>\n",
       "    <tr style=\"text-align: right;\">\n",
       "      <th></th>\n",
       "      <th>schemeCode</th>\n",
       "      <th>schemeName</th>\n",
       "      <th>fund_house</th>\n",
       "      <th>scheme_type</th>\n",
       "      <th>scheme_category</th>\n",
       "      <th>date</th>\n",
       "      <th>nav</th>\n",
       "    </tr>\n",
       "  </thead>\n",
       "  <tbody>\n",
       "    <tr>\n",
       "      <th>0</th>\n",
       "      <td>100027</td>\n",
       "      <td>Grindlays Super Saver Income Fund-GSSIF-Half Y...</td>\n",
       "      <td>Standard Chartered Mutual Fund</td>\n",
       "      <td>Open Ended Schemes</td>\n",
       "      <td>Income</td>\n",
       "      <td>29-05-2008</td>\n",
       "      <td>10.7205</td>\n",
       "    </tr>\n",
       "    <tr>\n",
       "      <th>1</th>\n",
       "      <td>100027</td>\n",
       "      <td>Grindlays Super Saver Income Fund-GSSIF-Half Y...</td>\n",
       "      <td>Standard Chartered Mutual Fund</td>\n",
       "      <td>Open Ended Schemes</td>\n",
       "      <td>Income</td>\n",
       "      <td>28-05-2008</td>\n",
       "      <td>10.7250</td>\n",
       "    </tr>\n",
       "    <tr>\n",
       "      <th>2</th>\n",
       "      <td>100027</td>\n",
       "      <td>Grindlays Super Saver Income Fund-GSSIF-Half Y...</td>\n",
       "      <td>Standard Chartered Mutual Fund</td>\n",
       "      <td>Open Ended Schemes</td>\n",
       "      <td>Income</td>\n",
       "      <td>27-05-2008</td>\n",
       "      <td>10.7216</td>\n",
       "    </tr>\n",
       "    <tr>\n",
       "      <th>3</th>\n",
       "      <td>100027</td>\n",
       "      <td>Grindlays Super Saver Income Fund-GSSIF-Half Y...</td>\n",
       "      <td>Standard Chartered Mutual Fund</td>\n",
       "      <td>Open Ended Schemes</td>\n",
       "      <td>Income</td>\n",
       "      <td>26-05-2008</td>\n",
       "      <td>10.7206</td>\n",
       "    </tr>\n",
       "    <tr>\n",
       "      <th>4</th>\n",
       "      <td>100027</td>\n",
       "      <td>Grindlays Super Saver Income Fund-GSSIF-Half Y...</td>\n",
       "      <td>Standard Chartered Mutual Fund</td>\n",
       "      <td>Open Ended Schemes</td>\n",
       "      <td>Income</td>\n",
       "      <td>23-05-2008</td>\n",
       "      <td>10.7152</td>\n",
       "    </tr>\n",
       "    <tr>\n",
       "      <th>...</th>\n",
       "      <td>...</td>\n",
       "      <td>...</td>\n",
       "      <td>...</td>\n",
       "      <td>...</td>\n",
       "      <td>...</td>\n",
       "      <td>...</td>\n",
       "      <td>...</td>\n",
       "    </tr>\n",
       "    <tr>\n",
       "      <th>53008913</th>\n",
       "      <td>152754</td>\n",
       "      <td>Kotak BSE PSU Index Fund - Direct Plan - IDCW ...</td>\n",
       "      <td>Kotak Mahindra Mutual Fund</td>\n",
       "      <td>Open Ended Schemes</td>\n",
       "      <td>Other Scheme - Index Funds</td>\n",
       "      <td>05-08-2024</td>\n",
       "      <td>9.4100</td>\n",
       "    </tr>\n",
       "    <tr>\n",
       "      <th>53008914</th>\n",
       "      <td>152755</td>\n",
       "      <td>Kotak BSE PSU Index Fund - Direct Plan - Growth</td>\n",
       "      <td>Kotak Mahindra Mutual Fund</td>\n",
       "      <td>Open Ended Schemes</td>\n",
       "      <td>Other Scheme - Index Funds</td>\n",
       "      <td>08-08-2024</td>\n",
       "      <td>9.4630</td>\n",
       "    </tr>\n",
       "    <tr>\n",
       "      <th>53008915</th>\n",
       "      <td>152755</td>\n",
       "      <td>Kotak BSE PSU Index Fund - Direct Plan - Growth</td>\n",
       "      <td>Kotak Mahindra Mutual Fund</td>\n",
       "      <td>Open Ended Schemes</td>\n",
       "      <td>Other Scheme - Index Funds</td>\n",
       "      <td>07-08-2024</td>\n",
       "      <td>9.5980</td>\n",
       "    </tr>\n",
       "    <tr>\n",
       "      <th>53008916</th>\n",
       "      <td>152755</td>\n",
       "      <td>Kotak BSE PSU Index Fund - Direct Plan - Growth</td>\n",
       "      <td>Kotak Mahindra Mutual Fund</td>\n",
       "      <td>Open Ended Schemes</td>\n",
       "      <td>Other Scheme - Index Funds</td>\n",
       "      <td>06-08-2024</td>\n",
       "      <td>9.2870</td>\n",
       "    </tr>\n",
       "    <tr>\n",
       "      <th>53008917</th>\n",
       "      <td>152755</td>\n",
       "      <td>Kotak BSE PSU Index Fund - Direct Plan - Growth</td>\n",
       "      <td>Kotak Mahindra Mutual Fund</td>\n",
       "      <td>Open Ended Schemes</td>\n",
       "      <td>Other Scheme - Index Funds</td>\n",
       "      <td>05-08-2024</td>\n",
       "      <td>9.4100</td>\n",
       "    </tr>\n",
       "  </tbody>\n",
       "</table>\n",
       "<p>53008918 rows × 7 columns</p>\n",
       "</div>"
      ],
      "text/plain": [
       "          schemeCode                                         schemeName  \\\n",
       "0             100027  Grindlays Super Saver Income Fund-GSSIF-Half Y...   \n",
       "1             100027  Grindlays Super Saver Income Fund-GSSIF-Half Y...   \n",
       "2             100027  Grindlays Super Saver Income Fund-GSSIF-Half Y...   \n",
       "3             100027  Grindlays Super Saver Income Fund-GSSIF-Half Y...   \n",
       "4             100027  Grindlays Super Saver Income Fund-GSSIF-Half Y...   \n",
       "...              ...                                                ...   \n",
       "53008913      152754  Kotak BSE PSU Index Fund - Direct Plan - IDCW ...   \n",
       "53008914      152755    Kotak BSE PSU Index Fund - Direct Plan - Growth   \n",
       "53008915      152755    Kotak BSE PSU Index Fund - Direct Plan - Growth   \n",
       "53008916      152755    Kotak BSE PSU Index Fund - Direct Plan - Growth   \n",
       "53008917      152755    Kotak BSE PSU Index Fund - Direct Plan - Growth   \n",
       "\n",
       "                              fund_house         scheme_type  \\\n",
       "0         Standard Chartered Mutual Fund  Open Ended Schemes   \n",
       "1         Standard Chartered Mutual Fund  Open Ended Schemes   \n",
       "2         Standard Chartered Mutual Fund  Open Ended Schemes   \n",
       "3         Standard Chartered Mutual Fund  Open Ended Schemes   \n",
       "4         Standard Chartered Mutual Fund  Open Ended Schemes   \n",
       "...                                  ...                 ...   \n",
       "53008913      Kotak Mahindra Mutual Fund  Open Ended Schemes   \n",
       "53008914      Kotak Mahindra Mutual Fund  Open Ended Schemes   \n",
       "53008915      Kotak Mahindra Mutual Fund  Open Ended Schemes   \n",
       "53008916      Kotak Mahindra Mutual Fund  Open Ended Schemes   \n",
       "53008917      Kotak Mahindra Mutual Fund  Open Ended Schemes   \n",
       "\n",
       "                     scheme_category        date      nav  \n",
       "0                             Income  29-05-2008  10.7205  \n",
       "1                             Income  28-05-2008  10.7250  \n",
       "2                             Income  27-05-2008  10.7216  \n",
       "3                             Income  26-05-2008  10.7206  \n",
       "4                             Income  23-05-2008  10.7152  \n",
       "...                              ...         ...      ...  \n",
       "53008913  Other Scheme - Index Funds  05-08-2024   9.4100  \n",
       "53008914  Other Scheme - Index Funds  08-08-2024   9.4630  \n",
       "53008915  Other Scheme - Index Funds  07-08-2024   9.5980  \n",
       "53008916  Other Scheme - Index Funds  06-08-2024   9.2870  \n",
       "53008917  Other Scheme - Index Funds  05-08-2024   9.4100  \n",
       "\n",
       "[53008918 rows x 7 columns]"
      ]
     },
     "execution_count": 5,
     "metadata": {},
     "output_type": "execute_result"
    }
   ],
   "source": [
    "import pandas as pd\n",
    "df1=pd.read_csv('mf1.csv')\n",
    "df2=pd.read_csv('mf2.csv')\n",
    "df3=pd.read_csv('mf3.csv')\n",
    "df4=pd.read_csv('mf4.csv')\n",
    "df5=pd.read_csv('mf5.csv')\n",
    "df6=pd.read_csv('mf6.csv')\n",
    "df = pd.concat([df1, df2, df3, df4, df5, df6], ignore_index=True)\n",
    "df"
   ]
  },
  {
   "cell_type": "code",
   "execution_count": 48,
   "id": "af05631d-d48d-40b5-a2e6-40e638b7d2c0",
   "metadata": {},
   "outputs": [
    {
     "name": "stdout",
     "output_type": "stream",
     "text": [
      "\n",
      "Summary statistics:\n",
      "         schemeCode                           date           nav          year\n",
      "count  5.300892e+07                       53008918  5.300892e+07  5.300892e+07\n",
      "mean   1.227152e+05  2017-08-13 14:30:19.772019200  2.042052e+02  2.017122e+03\n",
      "min    1.000270e+05            2006-04-01 00:00:00 -6.796493e+03  2.006000e+03\n",
      "25%    1.086910e+05            2014-08-25 00:00:00  1.065850e+01  2.014000e+03\n",
      "50%    1.197700e+05            2018-04-18 00:00:00  1.312300e+01  2.018000e+03\n",
      "75%    1.383440e+05            2021-02-17 00:00:00  3.577550e+01  2.021000e+03\n",
      "max    1.527550e+05            2024-08-08 00:00:00  2.185944e+06  2.024000e+03\n",
      "std    1.576954e+04                            NaN  3.228820e+03  4.465861e+00\n"
     ]
    }
   ],
   "source": [
    "# Basic Statistics\n",
    "print(\"\\nSummary statistics:\")\n",
    "print(df.describe())"
   ]
  },
  {
   "cell_type": "code",
   "execution_count": 50,
   "id": "fda1269f-24d2-4a68-8487-e25b942e22d7",
   "metadata": {},
   "outputs": [
    {
     "name": "stdout",
     "output_type": "stream",
     "text": [
      "\n",
      "Summary of categorical columns:\n",
      "                                               schemeName       fund_house  \\\n",
      "count                                            53008918         53008918   \n",
      "unique                                              36111               73   \n",
      "top     UTI Liquid Fund - Regular Plan - Daily IDCW (R...  UTI Mutual Fund   \n",
      "freq                                                31405          4844810   \n",
      "\n",
      "               scheme_type scheme_category  \n",
      "count             53008918        53008918  \n",
      "unique                  77              83  \n",
      "top     Open Ended Schemes          Income  \n",
      "freq              30609857        10093060  \n"
     ]
    }
   ],
   "source": [
    "# Display summary statistics for categorical columns\n",
    "print(\"\\nSummary of categorical columns:\")\n",
    "print(df.describe(include=['object']))"
   ]
  },
  {
   "cell_type": "code",
   "execution_count": 7,
   "id": "aee6a8ef-abf6-4284-a9be-5bd6b89940eb",
   "metadata": {},
   "outputs": [
    {
     "name": "stdout",
     "output_type": "stream",
     "text": [
      "\n",
      "Unique Values:\n",
      " schemeCode           36116\n",
      "schemeName           36111\n",
      "fund_house              73\n",
      "scheme_type             77\n",
      "scheme_category         83\n",
      "date                  6682\n",
      "nav                3430344\n",
      "dtype: int64\n"
     ]
    }
   ],
   "source": [
    "# Unique Values\n",
    "unique_values = df.nunique()\n",
    "print(\"\\nUnique Values:\\n\", unique_values)"
   ]
  },
  {
   "cell_type": "code",
   "execution_count": 9,
   "id": "d814cca3-8b32-41dc-a195-9b65a4ec1d27",
   "metadata": {},
   "outputs": [
    {
     "name": "stdout",
     "output_type": "stream",
     "text": [
      "\n",
      "Missing Values:\n",
      " schemeCode         0\n",
      "schemeName         0\n",
      "fund_house         0\n",
      "scheme_type        0\n",
      "scheme_category    0\n",
      "date               0\n",
      "nav                0\n",
      "dtype: int64\n"
     ]
    }
   ],
   "source": [
    "# Missing Values\n",
    "missing_values = df.isnull().sum()\n",
    "print(\"\\nMissing Values:\\n\", missing_values)"
   ]
  },
  {
   "cell_type": "code",
   "execution_count": 11,
   "id": "5c45fe08-51a6-4207-91af-d57cb00f6b9a",
   "metadata": {},
   "outputs": [
    {
     "name": "stdout",
     "output_type": "stream",
     "text": [
      "\n",
      "Data Types:\n",
      " schemeCode           int64\n",
      "schemeName          object\n",
      "fund_house          object\n",
      "scheme_type         object\n",
      "scheme_category     object\n",
      "date                object\n",
      "nav                float64\n",
      "dtype: object\n"
     ]
    }
   ],
   "source": [
    "# Data Types\n",
    "data_types = df.dtypes\n",
    "print(\"\\nData Types:\\n\", data_types)"
   ]
  },
  {
   "cell_type": "code",
   "execution_count": 13,
   "id": "274c8950-dc14-4dac-968c-390238957983",
   "metadata": {},
   "outputs": [
    {
     "name": "stdout",
     "output_type": "stream",
     "text": [
      "\n",
      "Data Completeness:\n",
      " schemeCode         100.0\n",
      "schemeName         100.0\n",
      "fund_house         100.0\n",
      "scheme_type        100.0\n",
      "scheme_category    100.0\n",
      "date               100.0\n",
      "nav                100.0\n",
      "dtype: float64\n"
     ]
    }
   ],
   "source": [
    "# Data Completeness\n",
    "data_completeness = df.notnull().mean() * 100\n",
    "print(\"\\nData Completeness:\\n\", data_completeness)"
   ]
  },
  {
   "cell_type": "code",
   "execution_count": 15,
   "id": "000e1272-1a5e-4a7c-be02-784af8a02477",
   "metadata": {},
   "outputs": [
    {
     "name": "stdout",
     "output_type": "stream",
     "text": [
      "\n",
      "Duplicate Rows:\n",
      " 22046009\n"
     ]
    }
   ],
   "source": [
    "# Check for Duplicates\n",
    "duplicates = df[df.duplicated()]\n",
    "print(\"\\nDuplicate Rows:\\n\", duplicates.shape[0])"
   ]
  },
  {
   "cell_type": "code",
   "execution_count": 19,
   "id": "4bed2172-8975-455e-afee-30433c663eae",
   "metadata": {},
   "outputs": [
    {
     "name": "stdout",
     "output_type": "stream",
     "text": [
      "\n",
      "Correlation Matrix:\n",
      "             schemeCode       nav\n",
      "schemeCode    1.000000 -0.009153\n",
      "nav          -0.009153  1.000000\n"
     ]
    }
   ],
   "source": [
    "# Relationship Analysis\n",
    "# Drop non-numeric columns\n",
    "numeric_df = df.select_dtypes(include=[float, int])\n",
    "\n",
    "# Calculate the correlation matrix\n",
    "correlation_matrix = numeric_df.corr()\n",
    "print(\"\\nCorrelation Matrix:\\n\", correlation_matrix)"
   ]
  },
  {
   "cell_type": "code",
   "execution_count": 25,
   "id": "7f50d931-ea9c-4ad9-8e60-254111e56aca",
   "metadata": {},
   "outputs": [],
   "source": [
    "df['date'] = pd.to_datetime(df['date'], errors='coerce',dayfirst=True)"
   ]
  },
  {
   "cell_type": "code",
   "execution_count": 27,
   "id": "1bcb9818-e929-4924-82f1-8af3b1ee31c9",
   "metadata": {},
   "outputs": [],
   "source": [
    "# Extract Year and Quarter\n",
    "df['year'] = df['date'].dt.year\n",
    "df['quarter'] = df['date'].dt.to_period('Q')"
   ]
  },
  {
   "cell_type": "code",
   "execution_count": 29,
   "id": "62b15608-f64e-4f24-b8f9-b20c01482307",
   "metadata": {},
   "outputs": [
    {
     "name": "stdout",
     "output_type": "stream",
     "text": [
      "\n",
      "Yearly Trends for Schemes:\n",
      " schemeCode  100027  100028  100029  100030  100031  100032  100033  100034  \\\n",
      "year                                                                         \n",
      "2006           186     186     186     186     186     186     187     374   \n",
      "2007           244     244     244     244     244     244     248     496   \n",
      "2008           101     101     101     101     101     101     245     490   \n",
      "2009             0       0       0       0       0       0     241     482   \n",
      "2010             0       0       0       0       0       0     250     500   \n",
      "2011             0       0       0       0       0       0     246     492   \n",
      "2012             0       0       0       0       0       0     246     492   \n",
      "2013             0       0       0       0       0       0     248     496   \n",
      "2014             0       0       0       0       0       0     242     484   \n",
      "2015             0       0       0       0       0       0     246     492   \n",
      "2016             0       0       0       0       0       0     246     492   \n",
      "2017             0       0       0       0       0       0     247     494   \n",
      "2018             0       0       0       0       0       0     245     490   \n",
      "2019             0       0       0       0       0       0     243     486   \n",
      "2020             0       0       0       0       0       0     250     500   \n",
      "2021             0       0       0       0       0       0     247     494   \n",
      "2022             0       0       0       0       0       0     247     494   \n",
      "2023             0       0       0       0       0       0     244     488   \n",
      "2024             0       0       0       0       0       0     149     298   \n",
      "\n",
      "schemeCode  100035  100036  ...  152746  152747  152748  152749  152750  \\\n",
      "year                        ...                                           \n",
      "2006           187     187  ...       0       0       0       0       0   \n",
      "2007           248     248  ...       0       0       0       0       0   \n",
      "2008           244     244  ...       0       0       0       0       0   \n",
      "2009           241     241  ...       0       0       0       0       0   \n",
      "2010           250     250  ...       0       0       0       0       0   \n",
      "2011           201     201  ...       0       0       0       0       0   \n",
      "2012             0       0  ...       0       0       0       0       0   \n",
      "2013             0       0  ...       0       0       0       0       0   \n",
      "2014             0       0  ...       0       0       0       0       0   \n",
      "2015             0       0  ...       0       0       0       0       0   \n",
      "2016             0       0  ...       0       0       0       0       0   \n",
      "2017             0       0  ...       0       0       0       0       0   \n",
      "2018             0       0  ...       0       0       0       0       0   \n",
      "2019             0       0  ...       0       0       0       0       0   \n",
      "2020             0       0  ...       0       0       0       0       0   \n",
      "2021             0       0  ...       0       0       0       0       0   \n",
      "2022             0       0  ...       0       0       0       0       0   \n",
      "2023             0       0  ...       0       0       0       0       0   \n",
      "2024             0       0  ...       9       9      14      14       5   \n",
      "\n",
      "schemeCode  152751  152752  152753  152754  152755  \n",
      "year                                                \n",
      "2006             0       0       0       0       0  \n",
      "2007             0       0       0       0       0  \n",
      "2008             0       0       0       0       0  \n",
      "2009             0       0       0       0       0  \n",
      "2010             0       0       0       0       0  \n",
      "2011             0       0       0       0       0  \n",
      "2012             0       0       0       0       0  \n",
      "2013             0       0       0       0       0  \n",
      "2014             0       0       0       0       0  \n",
      "2015             0       0       0       0       0  \n",
      "2016             0       0       0       0       0  \n",
      "2017             0       0       0       0       0  \n",
      "2018             0       0       0       0       0  \n",
      "2019             0       0       0       0       0  \n",
      "2020             0       0       0       0       0  \n",
      "2021             0       0       0       0       0  \n",
      "2022             0       0       0       0       0  \n",
      "2023             0       0       0       0       0  \n",
      "2024             5       4       4       4       4  \n",
      "\n",
      "[19 rows x 36116 columns]\n"
     ]
    }
   ],
   "source": [
    "# Yearly Trends for Schemes\n",
    "yearly_trends_schemes = df.groupby(['year', 'schemeCode']).size().unstack(fill_value=0)\n",
    "print(\"\\nYearly Trends for Schemes:\\n\", yearly_trends_schemes)"
   ]
  },
  {
   "cell_type": "code",
   "execution_count": 31,
   "id": "fd470a9c-6edb-4ac6-b718-c4423f3ee9b5",
   "metadata": {},
   "outputs": [
    {
     "name": "stdout",
     "output_type": "stream",
     "text": [
      "\n",
      "Quarterly Trends for Schemes:\n",
      " schemeCode  100027  100028  100029  100030  100031  100032  100033  100034  \\\n",
      "quarter                                                                      \n",
      "2006Q2          61      61      61      61      61      61      61     122   \n",
      "2006Q3          64      64      64      64      64      64      64     128   \n",
      "2006Q4          61      61      61      61      61      61      62     124   \n",
      "2007Q1          58      58      58      58      58      58      60     120   \n",
      "2007Q2          61      61      61      61      61      61      62     124   \n",
      "...            ...     ...     ...     ...     ...     ...     ...     ...   \n",
      "2023Q3           0       0       0       0       0       0      62     124   \n",
      "2023Q4           0       0       0       0       0       0      60     120   \n",
      "2024Q1           0       0       0       0       0       0      61     122   \n",
      "2024Q2           0       0       0       0       0       0      60     120   \n",
      "2024Q3           0       0       0       0       0       0      28      56   \n",
      "\n",
      "schemeCode  100035  100036  ...  152746  152747  152748  152749  152750  \\\n",
      "quarter                     ...                                           \n",
      "2006Q2          61      61  ...       0       0       0       0       0   \n",
      "2006Q3          64      64  ...       0       0       0       0       0   \n",
      "2006Q4          62      62  ...       0       0       0       0       0   \n",
      "2007Q1          60      60  ...       0       0       0       0       0   \n",
      "2007Q2          62      62  ...       0       0       0       0       0   \n",
      "...            ...     ...  ...     ...     ...     ...     ...     ...   \n",
      "2023Q3           0       0  ...       0       0       0       0       0   \n",
      "2023Q4           0       0  ...       0       0       0       0       0   \n",
      "2024Q1           0       0  ...       0       0       0       0       0   \n",
      "2024Q2           0       0  ...       0       0       0       0       0   \n",
      "2024Q3           0       0  ...       9       9      14      14       5   \n",
      "\n",
      "schemeCode  152751  152752  152753  152754  152755  \n",
      "quarter                                             \n",
      "2006Q2           0       0       0       0       0  \n",
      "2006Q3           0       0       0       0       0  \n",
      "2006Q4           0       0       0       0       0  \n",
      "2007Q1           0       0       0       0       0  \n",
      "2007Q2           0       0       0       0       0  \n",
      "...            ...     ...     ...     ...     ...  \n",
      "2023Q3           0       0       0       0       0  \n",
      "2023Q4           0       0       0       0       0  \n",
      "2024Q1           0       0       0       0       0  \n",
      "2024Q2           0       0       0       0       0  \n",
      "2024Q3           5       4       4       4       4  \n",
      "\n",
      "[74 rows x 36116 columns]\n"
     ]
    }
   ],
   "source": [
    "# Quarterly Trends for Schemes\n",
    "quarterly_trends_schemes = df.groupby(['quarter', 'schemeCode']).size().unstack(fill_value=0)\n",
    "print(\"\\nQuarterly Trends for Schemes:\\n\", quarterly_trends_schemes)"
   ]
  },
  {
   "cell_type": "code",
   "execution_count": 33,
   "id": "6ec80a53-84dd-4c1d-9e54-37f5f2a3c155",
   "metadata": {},
   "outputs": [
    {
     "name": "stdout",
     "output_type": "stream",
     "text": [
      "\n",
      "Yearly Trends for NAV:\n",
      " year\n",
      "2006     64.542719\n",
      "2007     70.429343\n",
      "2008     71.255706\n",
      "2009     85.684639\n",
      "2010    106.482832\n",
      "2011    123.832190\n",
      "2012    167.945001\n",
      "2013    198.733696\n",
      "2014    185.198010\n",
      "2015    189.936061\n",
      "2016    189.701638\n",
      "2017    207.097782\n",
      "2018    211.720631\n",
      "2019    202.420940\n",
      "2020    213.915697\n",
      "2021    236.219949\n",
      "2022    275.091805\n",
      "2023    291.762906\n",
      "2024    301.288622\n",
      "Name: nav, dtype: float64\n"
     ]
    }
   ],
   "source": [
    "# Yearly Trends for NAV\n",
    "yearly_trends_nav = df.groupby('year')['nav'].mean()\n",
    "print(\"\\nYearly Trends for NAV:\\n\", yearly_trends_nav)"
   ]
  },
  {
   "cell_type": "code",
   "execution_count": 35,
   "id": "30199a9d-9f88-420e-9b1a-00948eab7b39",
   "metadata": {},
   "outputs": [
    {
     "name": "stdout",
     "output_type": "stream",
     "text": [
      "\n",
      "Quarterly Trends for NAV:\n",
      " quarter\n",
      "2006Q2     62.956443\n",
      "2006Q3     64.235138\n",
      "2006Q4     66.305124\n",
      "2007Q1     62.758609\n",
      "2007Q2     68.566412\n",
      "             ...    \n",
      "2023Q3    295.495983\n",
      "2023Q4    301.716868\n",
      "2024Q1    301.284018\n",
      "2024Q2    304.325774\n",
      "2024Q3    294.876909\n",
      "Freq: Q-DEC, Name: nav, Length: 74, dtype: float64\n"
     ]
    }
   ],
   "source": [
    "# Quarterly Trends for NAV\n",
    "quarterly_trends_nav = df.groupby('quarter')['nav'].mean()\n",
    "print(\"\\nQuarterly Trends for NAV:\\n\", quarterly_trends_nav)"
   ]
  },
  {
   "cell_type": "code",
   "execution_count": 7,
   "id": "9a9e0ad4-2850-4c40-87ad-07c15fae87b1",
   "metadata": {},
   "outputs": [
    {
     "name": "stdout",
     "output_type": "stream",
     "text": [
      "\n",
      "NAV distribution:\n",
      "count    5.300892e+07\n",
      "mean     2.042052e+02\n",
      "std      3.228820e+03\n",
      "min     -6.796493e+03\n",
      "25%      1.065850e+01\n",
      "50%      1.312300e+01\n",
      "75%      3.577550e+01\n",
      "max      2.185944e+06\n",
      "Name: nav, dtype: float64\n"
     ]
    }
   ],
   "source": [
    "# Analyze the distribution of NAV (Net Asset Value)\n",
    "print(\"\\nNAV distribution:\")\n",
    "print(df['nav'].describe())"
   ]
  },
  {
   "cell_type": "code",
   "execution_count": 9,
   "id": "063cc5a5-cf7b-4786-9552-e3bb5333b255",
   "metadata": {},
   "outputs": [
    {
     "name": "stdout",
     "output_type": "stream",
     "text": [
      "\n",
      "Number of schemes per fund house:\n",
      "fund_house\n",
      "UTI Mutual Fund                      4844810\n",
      "Nippon India Mutual Fund             4233011\n",
      "ICICI Prudential Mutual Fund         3126114\n",
      "HDFC Mutual Fund                     3121399\n",
      "Aditya Birla Sun Life Mutual Fund    2979875\n",
      "                                      ...   \n",
      "Shinsei Mutual Fund                     4243\n",
      "Helios Mutual Fund                      2924\n",
      "Zerodha Mutual Fund                     1781\n",
      "YES Mutual Fund                         1627\n",
      "Old Bridge Mutual Fund                   528\n",
      "Name: count, Length: 73, dtype: int64\n"
     ]
    }
   ],
   "source": [
    "# Analyze the number of schemes per fund house\n",
    "fund_house_counts = df['fund_house'].value_counts()\n",
    "print(\"\\nNumber of schemes per fund house:\")\n",
    "print(fund_house_counts)"
   ]
  },
  {
   "cell_type": "code",
   "execution_count": 11,
   "id": "f949a8d5-78a0-4017-a87e-707132717afa",
   "metadata": {},
   "outputs": [
    {
     "name": "stdout",
     "output_type": "stream",
     "text": [
      "\n",
      "Distribution of scheme types:\n",
      "scheme_type\n",
      "Open Ended Schemes                                                                                  30609857\n",
      "360 ONE Mutual Fund                                                                                  9102800\n",
      "Close Ended Schemes                                                                                  7556841\n",
      "IL&FS Mutual Fund                                                                                    4441848\n",
      "135488;INF174K01Y15;-;Kotak FMP Series 180                                                            396365\n",
      "                                                                                                      ...   \n",
      "IIFCL Mutual Fund                                                                                         66\n",
      "138559;INF663L01KX4;-;DHFL Pramerica Hybrid Fixed Term Fund - Series 11 - Direct Plan - Dividend          38\n",
      "131466;INF200K011U0;-;SBI DEBT FUND SERIES A - 44                                                         15\n",
      "130158;INF200K016J2;-;SBI Debt Fund Series A - 29                                                          3\n",
      "130983;INF200K010P2;-;SBI DEBT FUNDS SERIES A - 39                                                         2\n",
      "Name: count, Length: 77, dtype: int64\n"
     ]
    }
   ],
   "source": [
    "# Analyze the distribution of scheme types\n",
    "scheme_type_counts = df['scheme_type'].value_counts()\n",
    "print(\"\\nDistribution of scheme types:\")\n",
    "print(scheme_type_counts)"
   ]
  },
  {
   "cell_type": "code",
   "execution_count": 13,
   "id": "6269eaac-e564-4420-96f8-676f26ebba1b",
   "metadata": {},
   "outputs": [
    {
     "name": "stdout",
     "output_type": "stream",
     "text": [
      "\n",
      "Distribution of scheme categories:\n",
      "scheme_category\n",
      "Income                                10093060\n",
      "Formerly Known as IIFL Mutual Fund     9102800\n",
      "IDF                                    4441914\n",
      "Debt Scheme - Low Duration Fund        2148636\n",
      "Debt Scheme - Short Duration Fund      1608377\n",
      "                                        ...   \n",
      "466 DAYS                                   782\n",
      "Annual Dividend                            339\n",
      "1111 DAYS                                   15\n",
      "91 Days                                      3\n",
      "1100 DAYS                                    2\n",
      "Name: count, Length: 83, dtype: int64\n"
     ]
    }
   ],
   "source": [
    "# Analyze the distribution of scheme categories\n",
    "scheme_category_counts = df['scheme_category'].value_counts()\n",
    "print(\"\\nDistribution of scheme categories:\")\n",
    "print(scheme_category_counts)"
   ]
  },
  {
   "cell_type": "code",
   "execution_count": null,
   "id": "3e019f67-bd73-464b-8bc6-2cd8c848fe2c",
   "metadata": {},
   "outputs": [],
   "source": [
    "# Save Analysis to CSV\n",
    "analysis_results = {\n",
    "    \"Basic Statistics\": basic_stats,\n",
    "    \"Unique Values\": unique_values,\n",
    "    \"Missing Values\": missing_values,\n",
    "    \"Data Types\": data_types,\n",
    "    \"Data Completeness\": data_completeness,\n",
    "    \"Duplicate Rows\": duplicates,\n",
    "    \"Correlation Matrix\": correlation_matrix,\n",
    "    \"Yearly Trends for Schemes\": yearly_trends_schemes,\n",
    "    \"Quarterly Trends for Schemes\": quarterly_trends_schemes,\n",
    "    \"Yearly Trends for NAV\": yearly_trends_nav,\n",
    "    \"Quarterly Trends for NAV\": quarterly_trends_nav\n",
    "}\n",
    "\n",
    "for key, value in analysis_results.items():\n",
    "    value.to_csv(f'{key.replace(\" \", \"_\").lower()}.csv')\n",
    "    print(f\"{key} saved to {key.replace(' ', '_').lower()}.csv\")"
   ]
  },
  {
   "cell_type": "code",
   "execution_count": null,
   "id": "d49796ca-10ca-43ad-9153-b02264f516dc",
   "metadata": {},
   "outputs": [],
   "source": []
  },
  {
   "cell_type": "code",
   "execution_count": null,
   "id": "7c7d08d8-6d1d-4f96-9a49-c79cb244d615",
   "metadata": {},
   "outputs": [],
   "source": []
  }
 ],
 "metadata": {
  "kernelspec": {
   "display_name": "Python 3 (ipykernel)",
   "language": "python",
   "name": "python3"
  },
  "language_info": {
   "codemirror_mode": {
    "name": "ipython",
    "version": 3
   },
   "file_extension": ".py",
   "mimetype": "text/x-python",
   "name": "python",
   "nbconvert_exporter": "python",
   "pygments_lexer": "ipython3",
   "version": "3.11.7"
  }
 },
 "nbformat": 4,
 "nbformat_minor": 5
}
