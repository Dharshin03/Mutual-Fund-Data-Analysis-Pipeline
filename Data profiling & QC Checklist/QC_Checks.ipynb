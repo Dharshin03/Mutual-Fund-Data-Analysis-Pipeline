{
 "cells": [
  {
   "cell_type": "code",
   "execution_count": 1,
   "id": "ea82cc3f-f33e-4c07-89b7-1f36b87aa8ce",
   "metadata": {},
   "outputs": [
    {
     "data": {
      "text/html": [
       "<div>\n",
       "<style scoped>\n",
       "    .dataframe tbody tr th:only-of-type {\n",
       "        vertical-align: middle;\n",
       "    }\n",
       "\n",
       "    .dataframe tbody tr th {\n",
       "        vertical-align: top;\n",
       "    }\n",
       "\n",
       "    .dataframe thead th {\n",
       "        text-align: right;\n",
       "    }\n",
       "</style>\n",
       "<table border=\"1\" class=\"dataframe\">\n",
       "  <thead>\n",
       "    <tr style=\"text-align: right;\">\n",
       "      <th></th>\n",
       "      <th>schemeCode</th>\n",
       "      <th>schemeName</th>\n",
       "      <th>fund_house</th>\n",
       "      <th>scheme_type</th>\n",
       "      <th>scheme_category</th>\n",
       "      <th>date</th>\n",
       "      <th>nav</th>\n",
       "    </tr>\n",
       "  </thead>\n",
       "  <tbody>\n",
       "    <tr>\n",
       "      <th>0</th>\n",
       "      <td>149194</td>\n",
       "      <td>SBI Fixed Maturity Plan (FMP) - Series 51 (184...</td>\n",
       "      <td>SBI Mutual Fund</td>\n",
       "      <td>Mutual Fund</td>\n",
       "      <td>IDF/Growth/Liquid</td>\n",
       "      <td>2024-08-08</td>\n",
       "      <td>11.6690</td>\n",
       "    </tr>\n",
       "    <tr>\n",
       "      <th>1</th>\n",
       "      <td>148758</td>\n",
       "      <td>Mirae Asset Corporate Bond Fund Regular IDCW</td>\n",
       "      <td>Mirae Asset Mutual Fund</td>\n",
       "      <td>Open Ended Scheme</td>\n",
       "      <td>Debt Scheme</td>\n",
       "      <td>2024-08-08</td>\n",
       "      <td>11.8699</td>\n",
       "    </tr>\n",
       "    <tr>\n",
       "      <th>2</th>\n",
       "      <td>151300</td>\n",
       "      <td>Axis CRISIL IBX 50:50 Gilt Plus SDL June 2028 ...</td>\n",
       "      <td>Axis Mutual Fund</td>\n",
       "      <td>Open Ended Scheme</td>\n",
       "      <td>Other Scheme</td>\n",
       "      <td>2024-08-08</td>\n",
       "      <td>11.2441</td>\n",
       "    </tr>\n",
       "    <tr>\n",
       "      <th>3</th>\n",
       "      <td>105025</td>\n",
       "      <td>Invesco India Low Duration Fund - Daily IDCW (...</td>\n",
       "      <td>Invesco Mutual Fund</td>\n",
       "      <td>Open Ended Scheme</td>\n",
       "      <td>Debt Scheme</td>\n",
       "      <td>2024-08-08</td>\n",
       "      <td>1017.9524</td>\n",
       "    </tr>\n",
       "    <tr>\n",
       "      <th>4</th>\n",
       "      <td>146188</td>\n",
       "      <td>BANDHAN Overnight Fund - Regular Plan - Daily ...</td>\n",
       "      <td>Bandhan Mutual Fund</td>\n",
       "      <td>Open Ended Scheme</td>\n",
       "      <td>Debt Scheme</td>\n",
       "      <td>2024-08-08</td>\n",
       "      <td>1000.0073</td>\n",
       "    </tr>\n",
       "    <tr>\n",
       "      <th>...</th>\n",
       "      <td>...</td>\n",
       "      <td>...</td>\n",
       "      <td>...</td>\n",
       "      <td>...</td>\n",
       "      <td>...</td>\n",
       "      <td>...</td>\n",
       "      <td>...</td>\n",
       "    </tr>\n",
       "    <tr>\n",
       "      <th>30962904</th>\n",
       "      <td>100891</td>\n",
       "      <td>Principal Cash Management-Liquid Option-Instit...</td>\n",
       "      <td>PRINCIPAL Mutual Fund</td>\n",
       "      <td>Open Ended Scheme</td>\n",
       "      <td>Uncategorized</td>\n",
       "      <td>2006-04-01</td>\n",
       "      <td>10.0064</td>\n",
       "    </tr>\n",
       "    <tr>\n",
       "      <th>30962905</th>\n",
       "      <td>100888</td>\n",
       "      <td>Principal Cash Management-Liquid Option-Growth...</td>\n",
       "      <td>PRINCIPAL Mutual Fund</td>\n",
       "      <td>Open Ended Scheme</td>\n",
       "      <td>Uncategorized</td>\n",
       "      <td>2006-04-01</td>\n",
       "      <td>13.7801</td>\n",
       "    </tr>\n",
       "    <tr>\n",
       "      <th>30962906</th>\n",
       "      <td>102913</td>\n",
       "      <td>CANARA ROBECO SAVINGS FUND - REGULAR PLAN - GR...</td>\n",
       "      <td>Canara Robeco Mutual Fund</td>\n",
       "      <td>Open Ended Scheme</td>\n",
       "      <td>Debt Scheme</td>\n",
       "      <td>2006-04-01</td>\n",
       "      <td>10.6652</td>\n",
       "    </tr>\n",
       "    <tr>\n",
       "      <th>30962907</th>\n",
       "      <td>102010</td>\n",
       "      <td>UTI Liquid Fund - Regular Plan - Daily IDCW (R...</td>\n",
       "      <td>UTI Mutual Fund</td>\n",
       "      <td>Mutual Fund</td>\n",
       "      <td>Uncategorized</td>\n",
       "      <td>2006-04-01</td>\n",
       "      <td>1017.7652</td>\n",
       "    </tr>\n",
       "    <tr>\n",
       "      <th>30962908</th>\n",
       "      <td>100613</td>\n",
       "      <td>Sundaram Growth Fund-Growth</td>\n",
       "      <td>Sundaram Mutual Fund</td>\n",
       "      <td>Open Ended Scheme</td>\n",
       "      <td>Uncategorized</td>\n",
       "      <td>2006-04-01</td>\n",
       "      <td>61.6566</td>\n",
       "    </tr>\n",
       "  </tbody>\n",
       "</table>\n",
       "<p>30962909 rows × 7 columns</p>\n",
       "</div>"
      ],
      "text/plain": [
       "          schemeCode                                         schemeName  \\\n",
       "0             149194  SBI Fixed Maturity Plan (FMP) - Series 51 (184...   \n",
       "1             148758       Mirae Asset Corporate Bond Fund Regular IDCW   \n",
       "2             151300  Axis CRISIL IBX 50:50 Gilt Plus SDL June 2028 ...   \n",
       "3             105025  Invesco India Low Duration Fund - Daily IDCW (...   \n",
       "4             146188  BANDHAN Overnight Fund - Regular Plan - Daily ...   \n",
       "...              ...                                                ...   \n",
       "30962904      100891  Principal Cash Management-Liquid Option-Instit...   \n",
       "30962905      100888  Principal Cash Management-Liquid Option-Growth...   \n",
       "30962906      102913  CANARA ROBECO SAVINGS FUND - REGULAR PLAN - GR...   \n",
       "30962907      102010  UTI Liquid Fund - Regular Plan - Daily IDCW (R...   \n",
       "30962908      100613                        Sundaram Growth Fund-Growth   \n",
       "\n",
       "                         fund_house        scheme_type    scheme_category  \\\n",
       "0                   SBI Mutual Fund        Mutual Fund  IDF/Growth/Liquid   \n",
       "1           Mirae Asset Mutual Fund  Open Ended Scheme        Debt Scheme   \n",
       "2                  Axis Mutual Fund  Open Ended Scheme       Other Scheme   \n",
       "3               Invesco Mutual Fund  Open Ended Scheme        Debt Scheme   \n",
       "4               Bandhan Mutual Fund  Open Ended Scheme        Debt Scheme   \n",
       "...                             ...                ...                ...   \n",
       "30962904      PRINCIPAL Mutual Fund  Open Ended Scheme      Uncategorized   \n",
       "30962905      PRINCIPAL Mutual Fund  Open Ended Scheme      Uncategorized   \n",
       "30962906  Canara Robeco Mutual Fund  Open Ended Scheme        Debt Scheme   \n",
       "30962907            UTI Mutual Fund        Mutual Fund      Uncategorized   \n",
       "30962908       Sundaram Mutual Fund  Open Ended Scheme      Uncategorized   \n",
       "\n",
       "               date        nav  \n",
       "0        2024-08-08    11.6690  \n",
       "1        2024-08-08    11.8699  \n",
       "2        2024-08-08    11.2441  \n",
       "3        2024-08-08  1017.9524  \n",
       "4        2024-08-08  1000.0073  \n",
       "...             ...        ...  \n",
       "30962904 2006-04-01    10.0064  \n",
       "30962905 2006-04-01    13.7801  \n",
       "30962906 2006-04-01    10.6652  \n",
       "30962907 2006-04-01  1017.7652  \n",
       "30962908 2006-04-01    61.6566  \n",
       "\n",
       "[30962909 rows x 7 columns]"
      ]
     },
     "execution_count": 1,
     "metadata": {},
     "output_type": "execute_result"
    }
   ],
   "source": [
    "import pandas as pd\n",
    "\n",
    "df = pd.read_parquet('mf_historical_clean.parquet')\n",
    "df"
   ]
  },
  {
   "cell_type": "code",
   "execution_count": 2,
   "id": "e9208f92-0e63-4079-80a7-8221b3c1701d",
   "metadata": {},
   "outputs": [
    {
     "name": "stdout",
     "output_type": "stream",
     "text": [
      "Data Types Verified.\n"
     ]
    },
    {
     "data": {
      "text/plain": [
       "True"
      ]
     },
     "execution_count": 2,
     "metadata": {},
     "output_type": "execute_result"
    }
   ],
   "source": [
    "def verify_data_types(df):\n",
    "    try:\n",
    "        data_types = df.dtypes\n",
    "        print(\"Data Types Verified.\")\n",
    "        return True\n",
    "    except Exception as e:\n",
    "        print(f\"Data Type Verification Failed: {e}\")\n",
    "        return False\n",
    "\n",
    "verify_data_types(df)"
   ]
  },
  {
   "cell_type": "code",
   "execution_count": 3,
   "id": "2ca0389a-3e3e-4cf7-bf67-b00527f02e0a",
   "metadata": {},
   "outputs": [
    {
     "name": "stdout",
     "output_type": "stream",
     "text": [
      "No Missing Values.\n"
     ]
    },
    {
     "data": {
      "text/plain": [
       "True"
      ]
     },
     "execution_count": 3,
     "metadata": {},
     "output_type": "execute_result"
    }
   ],
   "source": [
    "def check_missing_values(df):\n",
    "    missing_values = df.isnull().sum()\n",
    "    if missing_values.any():\n",
    "        print(\"Missing Values Found.\")\n",
    "        return False\n",
    "    else:\n",
    "        print(\"No Missing Values.\")\n",
    "        return True\n",
    "\n",
    "check_missing_values(df)"
   ]
  },
  {
   "cell_type": "code",
   "execution_count": 4,
   "id": "50f8d0d7-4c66-491e-aea3-f147ff157faa",
   "metadata": {},
   "outputs": [
    {
     "name": "stdout",
     "output_type": "stream",
     "text": [
      "No Duplicates Found.\n"
     ]
    },
    {
     "data": {
      "text/plain": [
       "True"
      ]
     },
     "execution_count": 4,
     "metadata": {},
     "output_type": "execute_result"
    }
   ],
   "source": [
    "def check_duplicates(df):\n",
    "    duplicates = df.duplicated().sum()\n",
    "    if duplicates > 0:\n",
    "        print(f\"Duplicates Found: {duplicates}\")\n",
    "        return False\n",
    "    else:\n",
    "        print(\"No Duplicates Found.\")\n",
    "        return True\n",
    "\n",
    "check_duplicates(df)"
   ]
  },
  {
   "cell_type": "code",
   "execution_count": 5,
   "id": "f06f05cd-b49a-43bd-87cb-d245f6320ff2",
   "metadata": {},
   "outputs": [
    {
     "name": "stdout",
     "output_type": "stream",
     "text": [
      "Summary Statistics Checked.\n"
     ]
    },
    {
     "data": {
      "text/plain": [
       "True"
      ]
     },
     "execution_count": 5,
     "metadata": {},
     "output_type": "execute_result"
    }
   ],
   "source": [
    "def summary_statistics(df):\n",
    "    try:\n",
    "        summary_stats = df.describe(include='all')\n",
    "        print(\"Summary Statistics Checked.\")\n",
    "        return True\n",
    "    except Exception as e:\n",
    "        print(f\"Summary Statistics Check Failed: {e}\")\n",
    "        return False\n",
    "\n",
    "summary_statistics(df)"
   ]
  },
  {
   "cell_type": "code",
   "execution_count": 6,
   "id": "9a59cf9e-6916-4049-9272-78558432e426",
   "metadata": {},
   "outputs": [
    {
     "name": "stdout",
     "output_type": "stream",
     "text": [
      "Categorical Data Review Passed.\n"
     ]
    },
    {
     "data": {
      "text/plain": [
       "True"
      ]
     },
     "execution_count": 6,
     "metadata": {},
     "output_type": "execute_result"
    }
   ],
   "source": [
    "def categorical_data_review(df):\n",
    "    try:\n",
    "        df.select_dtypes(include=['object']).apply(pd.Series.value_counts)\n",
    "        print(\"Categorical Data Review Passed.\")\n",
    "        return True\n",
    "    except Exception as e:\n",
    "        print(f\"Categorical Data Review Failed: {e}\")\n",
    "        return False\n",
    "\n",
    "categorical_data_review(df)"
   ]
  },
  {
   "cell_type": "code",
   "execution_count": 7,
   "id": "130238f2-e52f-4337-a816-24c51c7b66c2",
   "metadata": {},
   "outputs": [],
   "source": [
    "import pandas as pd\n",
    "import numpy as np\n",
    "import matplotlib.pyplot as plt\n",
    "import seaborn as sns\n",
    "import os"
   ]
  },
  {
   "cell_type": "code",
   "execution_count": 8,
   "id": "e0b04951-d915-4940-94f8-ece0502e9687",
   "metadata": {},
   "outputs": [
    {
     "name": "stdout",
     "output_type": "stream",
     "text": [
      "Trend Analysis Completed.\n"
     ]
    },
    {
     "data": {
      "text/plain": [
       "True"
      ]
     },
     "execution_count": 8,
     "metadata": {},
     "output_type": "execute_result"
    }
   ],
   "source": [
    "def trend_analysis(df, output_folder):\n",
    "    try:\n",
    "        if 'date' in df.columns:\n",
    "            df['date'] = pd.to_datetime(df['date'])\n",
    "            trends = df.groupby(df['date'].dt.to_period(\"M\"))['nav'].mean()\n",
    "            trends.plot()\n",
    "            plt.title(\"Trend Analysis\")\n",
    "            plt.savefig(os.path.join(output_folder, \"trend_analysis.png\"))\n",
    "            plt.close()\n",
    "            print(\"Trend Analysis Completed.\")\n",
    "            return True\n",
    "        else:\n",
    "            print(\"No 'date' column found for trend analysis.\")\n",
    "            return False\n",
    "    except Exception as e:\n",
    "        print(f\"Trend Analysis Failed: {e}\")\n",
    "        return False\n",
    "\n",
    "output_folder = './'\n",
    "trend_analysis(df, output_folder)"
   ]
  },
  {
   "cell_type": "code",
   "execution_count": 9,
   "id": "087b8753-986d-4f53-9744-ed716ff4cd54",
   "metadata": {},
   "outputs": [],
   "source": [
    "import pandas as pd\n",
    "\n",
    "def export_quality_report(df, report, output_csv):\n",
    "    report_df = pd.DataFrame.from_dict(report, orient='index')\n",
    "    report_df.to_csv(output_csv)\n",
    "    print(f\"Quality check report exported to {output_csv}\")"
   ]
  },
  {
   "cell_type": "code",
   "execution_count": 11,
   "id": "035c117e-1c79-4509-b1ba-a568840b9021",
   "metadata": {},
   "outputs": [
    {
     "name": "stdout",
     "output_type": "stream",
     "text": [
      "Data Types Verified.\n",
      "No Missing Values.\n",
      "No Duplicates Found.\n",
      "Summary Statistics Checked.\n",
      "Categorical Data Review Passed.\n",
      "Trend Analysis Completed.\n",
      "Quality check report exported to ./quality_check_report.csv\n"
     ]
    }
   ],
   "source": [
    "def main(parquet_file_path, output_folder):\n",
    "    df = pd.read_parquet('mf_historical_clean.parquet')\n",
    "    \n",
    "    if df is not None:\n",
    "        if not os.path.exists(output_folder):\n",
    "            os.makedirs(output_folder)\n",
    "        \n",
    "        report = {}\n",
    "        report['Data Types'] = verify_data_types(df)\n",
    "        report['Missing Values'] = check_missing_values(df)\n",
    "        report['Duplicates'] = check_duplicates(df)\n",
    "        report['Summary Statistics'] = summary_statistics(df)\n",
    "        report['Categorical Data Review'] = categorical_data_review(df)\n",
    "        report['Trend Analysis'] = trend_analysis(df, output_folder)\n",
    "\n",
    "        # Export report to CSV\n",
    "        output_csv = os.path.join(output_folder, 'quality_check_report.csv')\n",
    "        export_quality_report(df, report, output_csv)\n",
    "\n",
    "if __name__ == \"__main__\":\n",
    "    parquet_file_path = 'mf_historical_clean.parquet'\n",
    "    output_folder = './'\n",
    "    main(parquet_file_path, output_folder)"
   ]
  },
  {
   "cell_type": "code",
   "execution_count": null,
   "id": "f16686b7-2188-4517-b64f-cbdf7b341bbf",
   "metadata": {},
   "outputs": [],
   "source": []
  }
 ],
 "metadata": {
  "kernelspec": {
   "display_name": "Python 3 (ipykernel)",
   "language": "python",
   "name": "python3"
  },
  "language_info": {
   "codemirror_mode": {
    "name": "ipython",
    "version": 3
   },
   "file_extension": ".py",
   "mimetype": "text/x-python",
   "name": "python",
   "nbconvert_exporter": "python",
   "pygments_lexer": "ipython3",
   "version": "3.11.7"
  }
 },
 "nbformat": 4,
 "nbformat_minor": 5
}
