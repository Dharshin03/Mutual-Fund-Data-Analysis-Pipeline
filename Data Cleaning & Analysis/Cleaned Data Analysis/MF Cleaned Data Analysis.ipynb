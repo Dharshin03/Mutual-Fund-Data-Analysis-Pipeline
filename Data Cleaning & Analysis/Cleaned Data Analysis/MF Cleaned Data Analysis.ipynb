{
 "cells": [
  {
   "cell_type": "code",
   "execution_count": 24,
   "id": "08361a67-96f2-402f-aaab-8ffe251e89dc",
   "metadata": {},
   "outputs": [],
   "source": [
    "import re"
   ]
  },
  {
   "cell_type": "code",
   "execution_count": 2,
   "id": "f5c723cd-4c53-4d48-bf68-2bc2b0a14cb8",
   "metadata": {},
   "outputs": [
    {
     "data": {
      "text/html": [
       "<div>\n",
       "<style scoped>\n",
       "    .dataframe tbody tr th:only-of-type {\n",
       "        vertical-align: middle;\n",
       "    }\n",
       "\n",
       "    .dataframe tbody tr th {\n",
       "        vertical-align: top;\n",
       "    }\n",
       "\n",
       "    .dataframe thead th {\n",
       "        text-align: right;\n",
       "    }\n",
       "</style>\n",
       "<table border=\"1\" class=\"dataframe\">\n",
       "  <thead>\n",
       "    <tr style=\"text-align: right;\">\n",
       "      <th></th>\n",
       "      <th>schemeCode</th>\n",
       "      <th>schemeName</th>\n",
       "      <th>fund_house</th>\n",
       "      <th>scheme_type</th>\n",
       "      <th>scheme_category</th>\n",
       "      <th>date</th>\n",
       "      <th>nav</th>\n",
       "    </tr>\n",
       "  </thead>\n",
       "  <tbody>\n",
       "    <tr>\n",
       "      <th>0</th>\n",
       "      <td>149194</td>\n",
       "      <td>SBI Fixed Maturity Plan (FMP) - Series 51 (184...</td>\n",
       "      <td>SBI Mutual Fund</td>\n",
       "      <td>Mutual Fund</td>\n",
       "      <td>IDF/Growth/Liquid</td>\n",
       "      <td>2024-08-08</td>\n",
       "      <td>11.6690</td>\n",
       "    </tr>\n",
       "    <tr>\n",
       "      <th>1</th>\n",
       "      <td>148758</td>\n",
       "      <td>Mirae Asset Corporate Bond Fund Regular IDCW</td>\n",
       "      <td>Mirae Asset Mutual Fund</td>\n",
       "      <td>Open Ended Scheme</td>\n",
       "      <td>Debt Scheme</td>\n",
       "      <td>2024-08-08</td>\n",
       "      <td>11.8699</td>\n",
       "    </tr>\n",
       "    <tr>\n",
       "      <th>2</th>\n",
       "      <td>151300</td>\n",
       "      <td>Axis CRISIL IBX 50:50 Gilt Plus SDL June 2028 ...</td>\n",
       "      <td>Axis Mutual Fund</td>\n",
       "      <td>Open Ended Scheme</td>\n",
       "      <td>Other Scheme</td>\n",
       "      <td>2024-08-08</td>\n",
       "      <td>11.2441</td>\n",
       "    </tr>\n",
       "    <tr>\n",
       "      <th>3</th>\n",
       "      <td>105025</td>\n",
       "      <td>Invesco India Low Duration Fund - Daily IDCW (...</td>\n",
       "      <td>Invesco Mutual Fund</td>\n",
       "      <td>Open Ended Scheme</td>\n",
       "      <td>Debt Scheme</td>\n",
       "      <td>2024-08-08</td>\n",
       "      <td>1017.9524</td>\n",
       "    </tr>\n",
       "    <tr>\n",
       "      <th>4</th>\n",
       "      <td>146188</td>\n",
       "      <td>BANDHAN Overnight Fund - Regular Plan - Daily ...</td>\n",
       "      <td>Bandhan Mutual Fund</td>\n",
       "      <td>Open Ended Scheme</td>\n",
       "      <td>Debt Scheme</td>\n",
       "      <td>2024-08-08</td>\n",
       "      <td>1000.0073</td>\n",
       "    </tr>\n",
       "    <tr>\n",
       "      <th>...</th>\n",
       "      <td>...</td>\n",
       "      <td>...</td>\n",
       "      <td>...</td>\n",
       "      <td>...</td>\n",
       "      <td>...</td>\n",
       "      <td>...</td>\n",
       "      <td>...</td>\n",
       "    </tr>\n",
       "    <tr>\n",
       "      <th>30962904</th>\n",
       "      <td>100891</td>\n",
       "      <td>Principal Cash Management-Liquid Option-Instit...</td>\n",
       "      <td>PRINCIPAL Mutual Fund</td>\n",
       "      <td>Open Ended Scheme</td>\n",
       "      <td>Uncategorized</td>\n",
       "      <td>2006-04-01</td>\n",
       "      <td>10.0064</td>\n",
       "    </tr>\n",
       "    <tr>\n",
       "      <th>30962905</th>\n",
       "      <td>100888</td>\n",
       "      <td>Principal Cash Management-Liquid Option-Growth...</td>\n",
       "      <td>PRINCIPAL Mutual Fund</td>\n",
       "      <td>Open Ended Scheme</td>\n",
       "      <td>Uncategorized</td>\n",
       "      <td>2006-04-01</td>\n",
       "      <td>13.7801</td>\n",
       "    </tr>\n",
       "    <tr>\n",
       "      <th>30962906</th>\n",
       "      <td>102913</td>\n",
       "      <td>CANARA ROBECO SAVINGS FUND - REGULAR PLAN - GR...</td>\n",
       "      <td>Canara Robeco Mutual Fund</td>\n",
       "      <td>Open Ended Scheme</td>\n",
       "      <td>Debt Scheme</td>\n",
       "      <td>2006-04-01</td>\n",
       "      <td>10.6652</td>\n",
       "    </tr>\n",
       "    <tr>\n",
       "      <th>30962907</th>\n",
       "      <td>102010</td>\n",
       "      <td>UTI Liquid Fund - Regular Plan - Daily IDCW (R...</td>\n",
       "      <td>UTI Mutual Fund</td>\n",
       "      <td>Mutual Fund</td>\n",
       "      <td>Uncategorized</td>\n",
       "      <td>2006-04-01</td>\n",
       "      <td>1017.7652</td>\n",
       "    </tr>\n",
       "    <tr>\n",
       "      <th>30962908</th>\n",
       "      <td>100613</td>\n",
       "      <td>Sundaram Growth Fund-Growth</td>\n",
       "      <td>Sundaram Mutual Fund</td>\n",
       "      <td>Open Ended Scheme</td>\n",
       "      <td>Uncategorized</td>\n",
       "      <td>2006-04-01</td>\n",
       "      <td>61.6566</td>\n",
       "    </tr>\n",
       "  </tbody>\n",
       "</table>\n",
       "<p>30962909 rows × 7 columns</p>\n",
       "</div>"
      ],
      "text/plain": [
       "          schemeCode                                         schemeName  \\\n",
       "0             149194  SBI Fixed Maturity Plan (FMP) - Series 51 (184...   \n",
       "1             148758       Mirae Asset Corporate Bond Fund Regular IDCW   \n",
       "2             151300  Axis CRISIL IBX 50:50 Gilt Plus SDL June 2028 ...   \n",
       "3             105025  Invesco India Low Duration Fund - Daily IDCW (...   \n",
       "4             146188  BANDHAN Overnight Fund - Regular Plan - Daily ...   \n",
       "...              ...                                                ...   \n",
       "30962904      100891  Principal Cash Management-Liquid Option-Instit...   \n",
       "30962905      100888  Principal Cash Management-Liquid Option-Growth...   \n",
       "30962906      102913  CANARA ROBECO SAVINGS FUND - REGULAR PLAN - GR...   \n",
       "30962907      102010  UTI Liquid Fund - Regular Plan - Daily IDCW (R...   \n",
       "30962908      100613                        Sundaram Growth Fund-Growth   \n",
       "\n",
       "                         fund_house        scheme_type    scheme_category  \\\n",
       "0                   SBI Mutual Fund        Mutual Fund  IDF/Growth/Liquid   \n",
       "1           Mirae Asset Mutual Fund  Open Ended Scheme        Debt Scheme   \n",
       "2                  Axis Mutual Fund  Open Ended Scheme       Other Scheme   \n",
       "3               Invesco Mutual Fund  Open Ended Scheme        Debt Scheme   \n",
       "4               Bandhan Mutual Fund  Open Ended Scheme        Debt Scheme   \n",
       "...                             ...                ...                ...   \n",
       "30962904      PRINCIPAL Mutual Fund  Open Ended Scheme      Uncategorized   \n",
       "30962905      PRINCIPAL Mutual Fund  Open Ended Scheme      Uncategorized   \n",
       "30962906  Canara Robeco Mutual Fund  Open Ended Scheme        Debt Scheme   \n",
       "30962907            UTI Mutual Fund        Mutual Fund      Uncategorized   \n",
       "30962908       Sundaram Mutual Fund  Open Ended Scheme      Uncategorized   \n",
       "\n",
       "               date        nav  \n",
       "0        2024-08-08    11.6690  \n",
       "1        2024-08-08    11.8699  \n",
       "2        2024-08-08    11.2441  \n",
       "3        2024-08-08  1017.9524  \n",
       "4        2024-08-08  1000.0073  \n",
       "...             ...        ...  \n",
       "30962904 2006-04-01    10.0064  \n",
       "30962905 2006-04-01    13.7801  \n",
       "30962906 2006-04-01    10.6652  \n",
       "30962907 2006-04-01  1017.7652  \n",
       "30962908 2006-04-01    61.6566  \n",
       "\n",
       "[30962909 rows x 7 columns]"
      ]
     },
     "execution_count": 2,
     "metadata": {},
     "output_type": "execute_result"
    }
   ],
   "source": [
    "import pandas as pd\n",
    "df = pd.read_parquet('mf_historical_clean.parquet')\n",
    "df"
   ]
  },
  {
   "cell_type": "markdown",
   "id": "f05872dc-5a5a-4304-9ff4-81768e483349",
   "metadata": {},
   "source": [
    "# RANGE FINDING"
   ]
  },
  {
   "cell_type": "code",
   "execution_count": 11,
   "id": "26a7a39b-4a19-4592-9b27-21b81fa5f532",
   "metadata": {},
   "outputs": [
    {
     "name": "stdout",
     "output_type": "stream",
     "text": [
      "Minimum schemeCode: 100027\n",
      "Maximum schemeCode: 152755\n",
      "Minimum date: 2006-04-01 00:00:00\n",
      "Maximum date: 2024-08-08 00:00:00\n",
      "Minimum NAV: -6796.4926\n",
      "Maximum NAV: 2185944.3903\n"
     ]
    }
   ],
   "source": [
    "df['date'] = pd.to_datetime(df['date'])\n",
    "\n",
    "# Find minimum and maximum values\n",
    "min_schemeCode = df['schemeCode'].min()\n",
    "max_schemeCode = df['schemeCode'].max()\n",
    "\n",
    "min_date = df['date'].min()\n",
    "max_date = df['date'].max()\n",
    "\n",
    "min_nav = df['nav'].min()\n",
    "max_nav = df['nav'].max()\n",
    "\n",
    "# Print results\n",
    "print(f\"Minimum schemeCode: {min_schemeCode}\")\n",
    "print(f\"Maximum schemeCode: {max_schemeCode}\")\n",
    "print(f\"Minimum date: {min_date}\")\n",
    "print(f\"Maximum date: {max_date}\")\n",
    "print(f\"Minimum NAV: {min_nav}\")\n",
    "print(f\"Maximum NAV: {max_nav}\")"
   ]
  },
  {
   "cell_type": "code",
   "execution_count": 10,
   "id": "63d00b51-0060-4cfe-8579-64dbe3ec321a",
   "metadata": {},
   "outputs": [
    {
     "name": "stdout",
     "output_type": "stream",
     "text": [
      "187.3824285021029\n"
     ]
    }
   ],
   "source": [
    "print(df['nav'].mean())"
   ]
  },
  {
   "cell_type": "code",
   "execution_count": 8,
   "id": "cf7c1cee-6f78-4c18-b3b2-a6428d417bc6",
   "metadata": {},
   "outputs": [
    {
     "name": "stdout",
     "output_type": "stream",
     "text": [
      "12.3251\n"
     ]
    }
   ],
   "source": [
    "print(df['nav'].median())"
   ]
  },
  {
   "cell_type": "markdown",
   "id": "bc5b8f7b-c1de-4da4-87d0-3a5c6b015571",
   "metadata": {},
   "source": [
    "## DA1"
   ]
  },
  {
   "cell_type": "code",
   "execution_count": 14,
   "id": "ec8c44a8-71d9-46b4-a9be-1b4a3b77110d",
   "metadata": {},
   "outputs": [
    {
     "name": "stdout",
     "output_type": "stream",
     "text": [
      "\n",
      "Summary statistics:\n",
      "         schemeCode                        date           nav\n",
      "count  3.096291e+07                    30962909  3.096291e+07\n",
      "mean   1.229739e+05  2017-01-10 06:58:47.600871  1.873824e+02\n",
      "min    1.000270e+05         2006-04-01 00:00:00 -6.796493e+03\n",
      "25%    1.087150e+05         2014-01-16 00:00:00  1.052260e+01\n",
      "50%    1.202440e+05         2017-05-12 00:00:00  1.232510e+01\n",
      "75%    1.382740e+05         2020-08-19 00:00:00  2.737630e+01\n",
      "max    1.527550e+05         2024-08-08 00:00:00  2.185944e+06\n",
      "std    1.573856e+04                         NaN  4.203788e+03\n"
     ]
    }
   ],
   "source": [
    "# Basic Statistics\n",
    "print(\"\\nSummary statistics:\")\n",
    "basic_stats=df.describe()\n",
    "print(basic_stats)"
   ]
  },
  {
   "cell_type": "code",
   "execution_count": 16,
   "id": "c797b511-0f1c-4645-a82e-3d1ead204425",
   "metadata": {},
   "outputs": [
    {
     "name": "stdout",
     "output_type": "stream",
     "text": [
      "\n",
      "Summary of categorical columns:\n",
      "                                               schemeName       fund_house  \\\n",
      "count                                            30962909         30962909   \n",
      "unique                                              36111               73   \n",
      "top     SBI Overnight Fund - Regular Plan - Weekly Inc...  UTI Mutual Fund   \n",
      "freq                                                 6403          2815463   \n",
      "\n",
      "              scheme_type scheme_category  \n",
      "count            30962909        30962909  \n",
      "unique                 11               9  \n",
      "top     Open Ended Scheme   Uncategorized  \n",
      "freq             16485404        13470034  \n"
     ]
    }
   ],
   "source": [
    "# Display summary statistics for categorical columns\n",
    "print(\"\\nSummary of categorical columns:\")\n",
    "print(df.describe(include=['object']))"
   ]
  },
  {
   "cell_type": "code",
   "execution_count": 18,
   "id": "70a9f5b0-e820-4238-bf12-df91e76af6cf",
   "metadata": {},
   "outputs": [
    {
     "name": "stdout",
     "output_type": "stream",
     "text": [
      "\n",
      "Unique Values:\n",
      " schemeCode           36116\n",
      "schemeName           36111\n",
      "fund_house              73\n",
      "scheme_type             11\n",
      "scheme_category          9\n",
      "date                  6682\n",
      "nav                3430344\n",
      "dtype: int64\n"
     ]
    }
   ],
   "source": [
    "# Unique Values\n",
    "unique_values = df.nunique()\n",
    "print(\"\\nUnique Values:\\n\", unique_values)"
   ]
  },
  {
   "cell_type": "code",
   "execution_count": 20,
   "id": "7a17a0f5-3cb8-44bb-9abd-84b8a48f3919",
   "metadata": {},
   "outputs": [
    {
     "name": "stdout",
     "output_type": "stream",
     "text": [
      "\n",
      "Missing Values:\n",
      " schemeCode         0\n",
      "schemeName         0\n",
      "fund_house         0\n",
      "scheme_type        0\n",
      "scheme_category    0\n",
      "date               0\n",
      "nav                0\n",
      "dtype: int64\n"
     ]
    }
   ],
   "source": [
    "# Missing Values\n",
    "missing_values = df.isnull().sum()\n",
    "print(\"\\nMissing Values:\\n\", missing_values)"
   ]
  },
  {
   "cell_type": "code",
   "execution_count": 22,
   "id": "a0a19baf-89fc-45f3-80d8-4299eba6405c",
   "metadata": {},
   "outputs": [
    {
     "name": "stdout",
     "output_type": "stream",
     "text": [
      "\n",
      "Data Types:\n",
      " schemeCode                  int64\n",
      "schemeName                 object\n",
      "fund_house                 object\n",
      "scheme_type                object\n",
      "scheme_category            object\n",
      "date               datetime64[us]\n",
      "nav                       float64\n",
      "dtype: object\n"
     ]
    }
   ],
   "source": [
    "# Data Types\n",
    "data_types = df.dtypes\n",
    "print(\"\\nData Types:\\n\", data_types)"
   ]
  },
  {
   "cell_type": "code",
   "execution_count": 24,
   "id": "0337febf-501a-439b-8ffa-06725fc23171",
   "metadata": {},
   "outputs": [
    {
     "name": "stdout",
     "output_type": "stream",
     "text": [
      "\n",
      "Data Completeness:\n",
      " schemeCode         100.0\n",
      "schemeName         100.0\n",
      "fund_house         100.0\n",
      "scheme_type        100.0\n",
      "scheme_category    100.0\n",
      "date               100.0\n",
      "nav                100.0\n",
      "dtype: float64\n"
     ]
    }
   ],
   "source": [
    "# Data Completeness\n",
    "data_completeness = df.notnull().mean() * 100\n",
    "print(\"\\nData Completeness:\\n\", data_completeness)"
   ]
  },
  {
   "cell_type": "code",
   "execution_count": 26,
   "id": "56a47ba8-3368-444e-8344-887f15bf14c0",
   "metadata": {},
   "outputs": [
    {
     "name": "stdout",
     "output_type": "stream",
     "text": [
      "\n",
      "Duplicate Rows:\n",
      " 0\n"
     ]
    }
   ],
   "source": [
    "# Check for Duplicates\n",
    "duplicates = df[df.duplicated()]\n",
    "print(\"\\nDuplicate Rows:\\n\", duplicates.shape[0])"
   ]
  },
  {
   "cell_type": "code",
   "execution_count": 28,
   "id": "163c938e-3e41-4fc9-a0b0-b87f43cbe83e",
   "metadata": {},
   "outputs": [
    {
     "name": "stdout",
     "output_type": "stream",
     "text": [
      "\n",
      "Correlation Matrix:\n",
      "             schemeCode       nav\n",
      "schemeCode    1.000000 -0.007044\n",
      "nav          -0.007044  1.000000\n"
     ]
    }
   ],
   "source": [
    "# Relationship Analysis\n",
    "# Drop non-numeric columns\n",
    "numeric_df = df.select_dtypes(include=[float, int])\n",
    "\n",
    "# Calculate the correlation matrix\n",
    "correlation_matrix = numeric_df.corr()\n",
    "print(\"\\nCorrelation Matrix:\\n\", correlation_matrix)"
   ]
  },
  {
   "cell_type": "code",
   "execution_count": 30,
   "id": "e7ea40c6-2189-4b82-90ae-253ba51a3a7b",
   "metadata": {},
   "outputs": [],
   "source": [
    "# Extract Year and Quarter\n",
    "df['date'] = pd.to_datetime(df['date'], errors='coerce',dayfirst=True)\n",
    "df['year'] = df['date'].dt.year\n",
    "df['quarter'] = df['date'].dt.to_period('Q')"
   ]
  },
  {
   "cell_type": "code",
   "execution_count": 32,
   "id": "b459dd15-3acf-4dcd-90e6-f6fe77159d00",
   "metadata": {},
   "outputs": [
    {
     "name": "stdout",
     "output_type": "stream",
     "text": [
      "\n",
      "Yearly Trends for Schemes:\n",
      " schemeCode  100027  100028  100029  100030  100031  100032  100033  100034  \\\n",
      "year                                                                         \n",
      "2006           186     186     186     186     186     186     187     187   \n",
      "2007           244     244     244     244     244     244     248     248   \n",
      "2008           101     101     101     101     101     101     245     245   \n",
      "2009             0       0       0       0       0       0     241     241   \n",
      "2010             0       0       0       0       0       0     250     250   \n",
      "2011             0       0       0       0       0       0     246     246   \n",
      "2012             0       0       0       0       0       0     246     246   \n",
      "2013             0       0       0       0       0       0     248     248   \n",
      "2014             0       0       0       0       0       0     242     242   \n",
      "2015             0       0       0       0       0       0     246     246   \n",
      "2016             0       0       0       0       0       0     246     246   \n",
      "2017             0       0       0       0       0       0     247     247   \n",
      "2018             0       0       0       0       0       0     245     245   \n",
      "2019             0       0       0       0       0       0     243     243   \n",
      "2020             0       0       0       0       0       0     250     250   \n",
      "2021             0       0       0       0       0       0     247     247   \n",
      "2022             0       0       0       0       0       0     247     247   \n",
      "2023             0       0       0       0       0       0     244     244   \n",
      "2024             0       0       0       0       0       0     149     149   \n",
      "\n",
      "schemeCode  100035  100036  ...  152746  152747  152748  152749  152750  \\\n",
      "year                        ...                                           \n",
      "2006           187     187  ...       0       0       0       0       0   \n",
      "2007           248     248  ...       0       0       0       0       0   \n",
      "2008           244     244  ...       0       0       0       0       0   \n",
      "2009           241     241  ...       0       0       0       0       0   \n",
      "2010           250     250  ...       0       0       0       0       0   \n",
      "2011           201     201  ...       0       0       0       0       0   \n",
      "2012             0       0  ...       0       0       0       0       0   \n",
      "2013             0       0  ...       0       0       0       0       0   \n",
      "2014             0       0  ...       0       0       0       0       0   \n",
      "2015             0       0  ...       0       0       0       0       0   \n",
      "2016             0       0  ...       0       0       0       0       0   \n",
      "2017             0       0  ...       0       0       0       0       0   \n",
      "2018             0       0  ...       0       0       0       0       0   \n",
      "2019             0       0  ...       0       0       0       0       0   \n",
      "2020             0       0  ...       0       0       0       0       0   \n",
      "2021             0       0  ...       0       0       0       0       0   \n",
      "2022             0       0  ...       0       0       0       0       0   \n",
      "2023             0       0  ...       0       0       0       0       0   \n",
      "2024             0       0  ...       9       9      14      14       5   \n",
      "\n",
      "schemeCode  152751  152752  152753  152754  152755  \n",
      "year                                                \n",
      "2006             0       0       0       0       0  \n",
      "2007             0       0       0       0       0  \n",
      "2008             0       0       0       0       0  \n",
      "2009             0       0       0       0       0  \n",
      "2010             0       0       0       0       0  \n",
      "2011             0       0       0       0       0  \n",
      "2012             0       0       0       0       0  \n",
      "2013             0       0       0       0       0  \n",
      "2014             0       0       0       0       0  \n",
      "2015             0       0       0       0       0  \n",
      "2016             0       0       0       0       0  \n",
      "2017             0       0       0       0       0  \n",
      "2018             0       0       0       0       0  \n",
      "2019             0       0       0       0       0  \n",
      "2020             0       0       0       0       0  \n",
      "2021             0       0       0       0       0  \n",
      "2022             0       0       0       0       0  \n",
      "2023             0       0       0       0       0  \n",
      "2024             5       4       4       4       4  \n",
      "\n",
      "[19 rows x 36116 columns]\n"
     ]
    }
   ],
   "source": [
    "# Yearly Trends for Schemes\n",
    "yearly_trends_schemes = df.groupby(['year', 'schemeCode']).size().unstack(fill_value=0)\n",
    "print(\"\\nYearly Trends for Schemes:\\n\", yearly_trends_schemes)"
   ]
  },
  {
   "cell_type": "code",
   "execution_count": 34,
   "id": "ff6313e1-57f9-49a6-bccb-e2900fc5c663",
   "metadata": {},
   "outputs": [
    {
     "name": "stdout",
     "output_type": "stream",
     "text": [
      "\n",
      "Quarterly Trends for Schemes:\n",
      " schemeCode  100027  100028  100029  100030  100031  100032  100033  100034  \\\n",
      "quarter                                                                      \n",
      "2006Q2          61      61      61      61      61      61      61      61   \n",
      "2006Q3          64      64      64      64      64      64      64      64   \n",
      "2006Q4          61      61      61      61      61      61      62      62   \n",
      "2007Q1          58      58      58      58      58      58      60      60   \n",
      "2007Q2          61      61      61      61      61      61      62      62   \n",
      "...            ...     ...     ...     ...     ...     ...     ...     ...   \n",
      "2023Q3           0       0       0       0       0       0      62      62   \n",
      "2023Q4           0       0       0       0       0       0      60      60   \n",
      "2024Q1           0       0       0       0       0       0      61      61   \n",
      "2024Q2           0       0       0       0       0       0      60      60   \n",
      "2024Q3           0       0       0       0       0       0      28      28   \n",
      "\n",
      "schemeCode  100035  100036  ...  152746  152747  152748  152749  152750  \\\n",
      "quarter                     ...                                           \n",
      "2006Q2          61      61  ...       0       0       0       0       0   \n",
      "2006Q3          64      64  ...       0       0       0       0       0   \n",
      "2006Q4          62      62  ...       0       0       0       0       0   \n",
      "2007Q1          60      60  ...       0       0       0       0       0   \n",
      "2007Q2          62      62  ...       0       0       0       0       0   \n",
      "...            ...     ...  ...     ...     ...     ...     ...     ...   \n",
      "2023Q3           0       0  ...       0       0       0       0       0   \n",
      "2023Q4           0       0  ...       0       0       0       0       0   \n",
      "2024Q1           0       0  ...       0       0       0       0       0   \n",
      "2024Q2           0       0  ...       0       0       0       0       0   \n",
      "2024Q3           0       0  ...       9       9      14      14       5   \n",
      "\n",
      "schemeCode  152751  152752  152753  152754  152755  \n",
      "quarter                                             \n",
      "2006Q2           0       0       0       0       0  \n",
      "2006Q3           0       0       0       0       0  \n",
      "2006Q4           0       0       0       0       0  \n",
      "2007Q1           0       0       0       0       0  \n",
      "2007Q2           0       0       0       0       0  \n",
      "...            ...     ...     ...     ...     ...  \n",
      "2023Q3           0       0       0       0       0  \n",
      "2023Q4           0       0       0       0       0  \n",
      "2024Q1           0       0       0       0       0  \n",
      "2024Q2           0       0       0       0       0  \n",
      "2024Q3           5       4       4       4       4  \n",
      "\n",
      "[74 rows x 36116 columns]\n"
     ]
    }
   ],
   "source": [
    "# Quarterly Trends for Schemes\n",
    "quarterly_trends_schemes = df.groupby(['quarter', 'schemeCode']).size().unstack(fill_value=0)\n",
    "print(\"\\nQuarterly Trends for Schemes:\\n\", quarterly_trends_schemes)\n"
   ]
  },
  {
   "cell_type": "code",
   "execution_count": 36,
   "id": "d981234b-7bb4-44b5-b9ac-75efc6570cda",
   "metadata": {},
   "outputs": [
    {
     "name": "stdout",
     "output_type": "stream",
     "text": [
      "\n",
      "Yearly Trends for NAV:\n",
      " year\n",
      "2006     58.362642\n",
      "2007     61.546091\n",
      "2008     64.230885\n",
      "2009     76.804298\n",
      "2010    100.853372\n",
      "2011    112.965144\n",
      "2012    155.618942\n",
      "2013    180.683488\n",
      "2014    159.362204\n",
      "2015    162.593046\n",
      "2016    159.697668\n",
      "2017    177.989227\n",
      "2018    201.906831\n",
      "2019    199.233413\n",
      "2020    220.203271\n",
      "2021    246.482073\n",
      "2022    287.698866\n",
      "2023    293.259192\n",
      "2024    291.172196\n",
      "Name: nav, dtype: float64\n"
     ]
    }
   ],
   "source": [
    "# Yearly Trends for NAV\n",
    "yearly_trends_nav = df.groupby('year')['nav'].mean()\n",
    "print(\"\\nYearly Trends for NAV:\\n\", yearly_trends_nav)"
   ]
  },
  {
   "cell_type": "code",
   "execution_count": 38,
   "id": "effab397-da5a-483f-bc39-13df1930b8af",
   "metadata": {},
   "outputs": [
    {
     "name": "stdout",
     "output_type": "stream",
     "text": [
      "\n",
      "Quarterly Trends for NAV:\n",
      " quarter\n",
      "2006Q2     57.250598\n",
      "2006Q3     58.279828\n",
      "2006Q4     59.448103\n",
      "2007Q1     55.669616\n",
      "2007Q2     58.651184\n",
      "             ...    \n",
      "2023Q3    298.030922\n",
      "2023Q4    298.897605\n",
      "2024Q1    295.548206\n",
      "2024Q2    294.772452\n",
      "2024Q3    274.292082\n",
      "Freq: Q-DEC, Name: nav, Length: 74, dtype: float64\n"
     ]
    }
   ],
   "source": [
    "# Quarterly Trends for NAV\n",
    "quarterly_trends_nav = df.groupby('quarter')['nav'].mean()\n",
    "print(\"\\nQuarterly Trends for NAV:\\n\", quarterly_trends_nav)"
   ]
  },
  {
   "cell_type": "code",
   "execution_count": 40,
   "id": "5d5f6d0d-8b08-44f8-800b-3c7d08a9ac2b",
   "metadata": {},
   "outputs": [
    {
     "name": "stdout",
     "output_type": "stream",
     "text": [
      "\n",
      "NAV distribution:\n",
      "count    3.096291e+07\n",
      "mean     1.873824e+02\n",
      "std      4.203788e+03\n",
      "min     -6.796493e+03\n",
      "25%      1.052260e+01\n",
      "50%      1.232510e+01\n",
      "75%      2.737630e+01\n",
      "max      2.185944e+06\n",
      "Name: nav, dtype: float64\n"
     ]
    }
   ],
   "source": [
    "# Analyze the distribution of NAV (Net Asset Value)\n",
    "print(\"\\nNAV distribution:\")\n",
    "print(df['nav'].describe())"
   ]
  },
  {
   "cell_type": "code",
   "execution_count": 42,
   "id": "d0718cd4-0a7e-4ea3-b2d1-888457e9b293",
   "metadata": {},
   "outputs": [
    {
     "name": "stdout",
     "output_type": "stream",
     "text": [
      "\n",
      "Number of schemes per fund house:\n",
      "fund_house\n",
      "UTI Mutual Fund                      2815463\n",
      "HDFC Mutual Fund                     2201785\n",
      "Aditya Birla Sun Life Mutual Fund    2111979\n",
      "ICICI Prudential Mutual Fund         2009102\n",
      "Nippon India Mutual Fund             1674877\n",
      "                                      ...   \n",
      "Shinsei Mutual Fund                     4243\n",
      "Helios Mutual Fund                      2068\n",
      "Zerodha Mutual Fund                     1781\n",
      "YES Mutual Fund                         1015\n",
      "Old Bridge Mutual Fund                   528\n",
      "Name: count, Length: 73, dtype: int64\n"
     ]
    }
   ],
   "source": [
    "# Analyze the number of schemes per fund house\n",
    "fund_house_counts = df['fund_house'].value_counts()\n",
    "print(\"\\nNumber of schemes per fund house:\")\n",
    "print(fund_house_counts)"
   ]
  },
  {
   "cell_type": "code",
   "execution_count": 44,
   "id": "4819a779-4e98-4494-a14d-1c236295572c",
   "metadata": {},
   "outputs": [
    {
     "name": "stdout",
     "output_type": "stream",
     "text": [
      "\n",
      "Distribution of scheme types:\n",
      "scheme_type\n",
      "Open Ended Scheme                   16485404\n",
      "Mutual Fund                          6986550\n",
      "Close Ended Scheme                   6347627\n",
      "Debt Scheme                           406588\n",
      "Uncategorized                         245296\n",
      "Plan/Duration                         242528\n",
      "Interval Fund                         156442\n",
      "Hybrid Scheme                          49919\n",
      "Liquid/Ultra Short Duration Fund       29714\n",
      "Index Fund                              9917\n",
      "Equity Scheme                           2924\n",
      "Name: count, dtype: int64\n"
     ]
    }
   ],
   "source": [
    "# Analyze the distribution of scheme types\n",
    "scheme_type_counts = df['scheme_type'].value_counts()\n",
    "print(\"\\nDistribution of scheme types:\")\n",
    "print(scheme_type_counts)"
   ]
  },
  {
   "cell_type": "code",
   "execution_count": 46,
   "id": "4cdabb0b-858e-4471-afe1-d82dd24722d8",
   "metadata": {},
   "outputs": [
    {
     "name": "stdout",
     "output_type": "stream",
     "text": [
      "\n",
      "Distribution of scheme categories:\n",
      "scheme_category\n",
      "Uncategorized               13470034\n",
      "Debt Scheme                  6938272\n",
      "IDF/Growth/Liquid            3606758\n",
      "Equity Scheme                2087103\n",
      "Hybrid Scheme                2053682\n",
      "Other Scheme                 1773114\n",
      "Duration/Plan                 607759\n",
      "Solution Oriented Scheme      244072\n",
      "Direct/Payout                 182115\n",
      "Name: count, dtype: int64\n"
     ]
    }
   ],
   "source": [
    "# Analyze the distribution of scheme categories\n",
    "scheme_category_counts = df['scheme_category'].value_counts()\n",
    "print(\"\\nDistribution of scheme categories:\")\n",
    "print(scheme_category_counts)"
   ]
  },
  {
   "cell_type": "code",
   "execution_count": 48,
   "id": "795016e1-5865-417c-8f9c-04fdd9121417",
   "metadata": {},
   "outputs": [
    {
     "name": "stdout",
     "output_type": "stream",
     "text": [
      "Basic Statistics saved to basic_statistics.csv\n",
      "Unique Values saved to unique_values.csv\n",
      "Missing Values saved to missing_values.csv\n",
      "Data Types saved to data_types.csv\n",
      "Data Completeness saved to data_completeness.csv\n",
      "Duplicate Rows saved to duplicate_rows.csv\n",
      "Correlation Matrix saved to correlation_matrix.csv\n",
      "Yearly Trends for Schemes saved to yearly_trends_for_schemes.csv\n",
      "Quarterly Trends for Schemes saved to quarterly_trends_for_schemes.csv\n",
      "Yearly Trends for NAV saved to yearly_trends_for_nav.csv\n",
      "Quarterly Trends for NAV saved to quarterly_trends_for_nav.csv\n"
     ]
    }
   ],
   "source": [
    "# Save Analysis to CSV\n",
    "analysis_results = {\n",
    "    \"Basic Statistics\": basic_stats,\n",
    "    \"Unique Values\": unique_values,\n",
    "    \"Missing Values\": missing_values,\n",
    "    \"Data Types\": data_types,\n",
    "    \"Data Completeness\": data_completeness,\n",
    "    \"Duplicate Rows\": duplicates,\n",
    "    \"Correlation Matrix\": correlation_matrix,\n",
    "    \"Yearly Trends for Schemes\": yearly_trends_schemes,\n",
    "    \"Quarterly Trends for Schemes\": quarterly_trends_schemes,\n",
    "    \"Yearly Trends for NAV\": yearly_trends_nav,\n",
    "    \"Quarterly Trends for NAV\": quarterly_trends_nav\n",
    "}\n",
    "\n",
    "for key, value in analysis_results.items():\n",
    "    value.to_csv(f'{key.replace(\" \", \"_\").lower()}.csv')\n",
    "    print(f\"{key} saved to {key.replace(' ', '_').lower()}.csv\")"
   ]
  },
  {
   "cell_type": "code",
   "execution_count": null,
   "id": "f04a84a6-2df9-401b-ad28-a0d32c995de4",
   "metadata": {},
   "outputs": [],
   "source": []
  }
 ],
 "metadata": {
  "kernelspec": {
   "display_name": "Python 3 (ipykernel)",
   "language": "python",
   "name": "python3"
  },
  "language_info": {
   "codemirror_mode": {
    "name": "ipython",
    "version": 3
   },
   "file_extension": ".py",
   "mimetype": "text/x-python",
   "name": "python",
   "nbconvert_exporter": "python",
   "pygments_lexer": "ipython3",
   "version": "3.11.7"
  }
 },
 "nbformat": 4,
 "nbformat_minor": 5
}
